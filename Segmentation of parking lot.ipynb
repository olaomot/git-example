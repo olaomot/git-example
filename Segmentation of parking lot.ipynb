{
    "cells": [
        {
            "cell_type": "markdown",
            "metadata": {
                "collapsed": true
            },
            "source": "1 \u2014 Introduction\nIn this project, I will be using foursquare location data, crowdsourced searching for parking data and k-means clustering to analyze and characterize parking location in different neighbourhoods of Toronto, Canada. For different neighbourhoods, the activities at different venues in each neighbourhood has an effect on the average time taken for car owners to find parking space in such neighbourhoods. For example for neighbourhoods with many restaurants, night clubs and cafe, the average time taken to find parking space could be much longer in the evenings when compared to the average time taken to find parking space in neighbourhoods that do not have such points of interest.\n"
        },
        {
            "cell_type": "markdown",
            "metadata": {},
            "source": "2 \u2014 Objective\nThe objective of this project will be to group parking locations with similar characteristics into clusters across the the city."
        },
        {
            "cell_type": "markdown",
            "metadata": {},
            "source": "3 \u2014 Background\nThe content of this paragraph is from the web site:\n[1] Studies reveal that drivers searching for parking in large urban centers not only causes frustration, but contributes to traffic congestion and additional greenhouse gas (GHG) emissions.\n[2] To put the problem into perspective, on average, American drivers spend 17 hours a year searching for parking, which is estimated to cost $345 per driver in time, fuel, and emissions. Drivers are not the only ones impacted by this problem \u2014 cities are as well. Out of 6,000 U.S. drivers that responded to a survey, sixty three percent reported they avoided driving to a destination due to parking challenges. This can consequently impact local businesses and economic activity.\n[3] As large metropolitan cities continue to grow year-over-year, traffic congestion continues to rise with no sign of slowing down."
        },
        {
            "cell_type": "code",
            "execution_count": null,
            "metadata": {},
            "outputs": [],
            "source": ""
        }
    ],
    "metadata": {
        "kernelspec": {
            "display_name": "Python 3.6",
            "language": "python",
            "name": "python3"
        },
        "language_info": {
            "codemirror_mode": {
                "name": "ipython",
                "version": 3
            },
            "file_extension": ".py",
            "mimetype": "text/x-python",
            "name": "python",
            "nbconvert_exporter": "python",
            "pygments_lexer": "ipython3",
            "version": "3.6.9"
        }
    },
    "nbformat": 4,
    "nbformat_minor": 1
}